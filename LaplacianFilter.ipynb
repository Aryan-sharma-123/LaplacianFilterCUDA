{
  "nbformat": 4,
  "nbformat_minor": 0,
  "metadata": {
    "colab": {
      "provenance": [],
      "gpuType": "T4"
    },
    "kernelspec": {
      "name": "python3",
      "display_name": "Python 3"
    },
    "language_info": {
      "name": "python"
    },
    "accelerator": "GPU"
  },
  "cells": [
    {
      "cell_type": "code",
      "execution_count": 1,
      "metadata": {
        "colab": {
          "base_uri": "https://localhost:8080/"
        },
        "id": "B1VmHBR_V8zg",
        "outputId": "0ebe68a3-ee7c-4514-9cbb-3d590ff88a03"
      },
      "outputs": [
        {
          "output_type": "stream",
          "name": "stdout",
          "text": [
            "Collecting git+https://github.com/andreinechaev/nvcc4jupyter.git\n",
            "  Cloning https://github.com/andreinechaev/nvcc4jupyter.git to /tmp/pip-req-build-4ia3lhpe\n",
            "  Running command git clone --filter=blob:none --quiet https://github.com/andreinechaev/nvcc4jupyter.git /tmp/pip-req-build-4ia3lhpe\n",
            "  Resolved https://github.com/andreinechaev/nvcc4jupyter.git to commit 326b0a57a80c6d0b4bad25ca7adf8138419ef1cb\n",
            "  Installing build dependencies ... \u001b[?25l\u001b[?25hdone\n",
            "  Getting requirements to build wheel ... \u001b[?25l\u001b[?25hdone\n",
            "  Preparing metadata (pyproject.toml) ... \u001b[?25l\u001b[?25hdone\n",
            "Building wheels for collected packages: nvcc4jupyter\n",
            "  Building wheel for nvcc4jupyter (pyproject.toml) ... \u001b[?25l\u001b[?25hdone\n",
            "  Created wheel for nvcc4jupyter: filename=nvcc4jupyter-1.2.1-py3-none-any.whl size=10741 sha256=1c43b610d84440f376c57bb0b3d20f87e2433fdb6f06eb98d5fd7c81c461a971\n",
            "  Stored in directory: /tmp/pip-ephem-wheel-cache-k269hg9h/wheels/a8/b9/18/23f8ef71ceb0f63297dd1903aedd067e6243a68ea756d6feea\n",
            "Successfully built nvcc4jupyter\n",
            "Installing collected packages: nvcc4jupyter\n",
            "Successfully installed nvcc4jupyter-1.2.1\n"
          ]
        }
      ],
      "source": [
        "!pip install git+https://github.com/andreinechaev/nvcc4jupyter.git"
      ]
    },
    {
      "cell_type": "code",
      "source": [
        "%%writefile laplacian.cu\n",
        "#include <stdio.h>\n",
        "#include <opencv2/core/core.hpp> // Include core functionalities\n",
        "#include <opencv2/imgcodecs.hpp> // For imread and imwrite\n",
        "#include <opencv2/highgui/highgui.hpp> // For GUI functionalities, might not be necessary for this script\n",
        "\n",
        "using namespace cv; // Use the cv namespace to simplify code\n",
        "\n",
        "__global__ void boxFilter(unsigned char *srcImage, unsigned char *dstImage, unsigned int width, unsigned int height, int channel)\n",
        "{\n",
        "   int x = blockIdx.x*blockDim.x + threadIdx.x;\n",
        "   int y = blockIdx.y*blockDim.y + threadIdx.y;\n",
        "\n",
        "   // only threads inside image will write results\n",
        "   if((x>=3/2) && (x<(width-3/2)) && (y>=3/2) && (y<(height-3/2)))\n",
        "   {\n",
        "      for(int c=0 ; c<channel ; c++)\n",
        "      {\n",
        "         // Sum of pixel values\n",
        "         float sum = 0;\n",
        "         // Number of filter pixels\n",
        "         float kS = 0;\n",
        "         // Loop inside the filter to average pixel values\n",
        "         for(int ky=-3/2; ky<=3/2; ky++) {\n",
        "            for(int kx=-3/2; kx<=3/2; kx++) {\n",
        "               float fl = srcImage[((y+ky)*width + (x+kx))*channel+c];\n",
        "               sum += fl;\n",
        "               kS += 1;\n",
        "            }\n",
        "         }\n",
        "         dstImage[(y*width+x)*channel+c] =  sum / kS;\n",
        "      }\n",
        "   }\n",
        "}\n",
        "\n",
        "__global__ void sharpeningFilter(unsigned char *srcImage, unsigned char *dstImage, unsigned int width, unsigned int height, int channel)\n",
        "{\n",
        "   int x = blockIdx.x*blockDim.x + threadIdx.x;\n",
        "   int y = blockIdx.y*blockDim.y + threadIdx.y;\n",
        "\n",
        "   float kernel[3][3] = {-1, -1, -1, -1, 9, -1, -1, -1, -1};\n",
        "   // only threads inside image will write results\n",
        "   if((x>=3/2) && (x<(width-3/2)) && (y>=3/2) && (y<(height-3/2)))\n",
        "   {\n",
        "      for(int c=0 ; c<channel ; c++)\n",
        "      {\n",
        "         // Sum of pixel values\n",
        "         float sum = 0;\n",
        "         // Loop inside the filter to average pixel values\n",
        "         for(int ky=-3/2; ky<=3/2; ky++) {\n",
        "            for(int kx=-3/2; kx<=3/2; kx++) {\n",
        "               float fl = srcImage[((y+ky)*width + (x+kx))*channel+c];\n",
        "               sum += fl*kernel[ky+3/2][kx+3/2];\n",
        "            }\n",
        "         }\n",
        "         dstImage[(y*width+x)*channel+c] =  sum;\n",
        "      }\n",
        "   }\n",
        "}\n",
        "\n",
        "void checkCudaErrors(cudaError_t r) {\n",
        "    if (r != cudaSuccess) {\n",
        "        fprintf(stderr, \"CUDA Error: %s\\n\", cudaGetErrorString(r));\n",
        "        exit(EXIT_FAILURE);\n",
        "    }\n",
        "}\n",
        "\n",
        "int main() {\n",
        "    Mat image = imread(\"images.jpg\", IMREAD_GRAYSCALE);\n",
        "    if (image.empty()) {\n",
        "        printf(\"Error: Image not found.\\n\");\n",
        "        return -1;\n",
        "    }\n",
        "    int width = image.cols;\n",
        "    int height = image.rows;\n",
        "    int channel=image.step/image.cols;\n",
        "    size_t imageSize = width * height * sizeof(unsigned char);\n",
        "\n",
        "    unsigned char *h_outputImage = (unsigned char *)malloc(imageSize);\n",
        "    if (h_outputImage == nullptr) {\n",
        "        fprintf(stderr, \"Failed to allocate host memory\\n\");\n",
        "        return -1;\n",
        "    }\n",
        "\n",
        "    unsigned char *d_inputImage, *d_outputImage;\n",
        "    checkCudaErrors(cudaMalloc(&d_inputImage, imageSize));\n",
        "    checkCudaErrors(cudaMalloc(&d_outputImage, imageSize));\n",
        "    checkCudaErrors(cudaMemcpy(d_inputImage, image.data, imageSize, cudaMemcpyHostToDevice));\n",
        "\n",
        "    dim3 blockSize(16, 16);\n",
        "    dim3 gridSize(ceil(width/16.0),ceil(height/16.0));\n",
        "    boxFilter<<<gridSize,blockSize>>>(d_inputImage,d_outputImage,width,height,channel);\n",
        "    sharpeningFilter<<<gridSize,blockSize>>>(d_outputImage,d_inputImage,width,height,channel);\n",
        "    checkCudaErrors(cudaMemcpy(h_outputImage, d_inputImage, imageSize, cudaMemcpyDeviceToHost));\n",
        "\n",
        "    Mat outputImage(height, width, CV_8UC1, h_outputImage);\n",
        "    imwrite(\"output.jpeg\", outputImage);\n",
        "\n",
        "    free(h_outputImage);\n",
        "    cudaFree(d_inputImage);\n",
        "    cudaFree(d_outputImage);\n",
        "\n",
        "    return 0;\n",
        "}"
      ],
      "metadata": {
        "colab": {
          "base_uri": "https://localhost:8080/"
        },
        "id": "1pxHc8weWbdM",
        "outputId": "951ad8f5-27d2-4bd2-f87e-e48ba81e612b"
      },
      "execution_count": 14,
      "outputs": [
        {
          "output_type": "stream",
          "name": "stdout",
          "text": [
            "Overwriting laplacian.cu\n"
          ]
        }
      ]
    },
    {
      "cell_type": "code",
      "source": [
        "!nvcc -o laplacian laplacian.cu `pkg-config --cflags --libs opencv4`"
      ],
      "metadata": {
        "id": "1_sqrJcwXn_p"
      },
      "execution_count": 15,
      "outputs": []
    },
    {
      "cell_type": "code",
      "source": [
        "!./laplacian"
      ],
      "metadata": {
        "id": "wC4BAGQIX7O-"
      },
      "execution_count": 16,
      "outputs": []
    }
  ]
}